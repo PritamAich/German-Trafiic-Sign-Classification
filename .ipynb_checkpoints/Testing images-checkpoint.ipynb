{
 "cells": [
  {
   "cell_type": "code",
   "execution_count": 18,
   "metadata": {},
   "outputs": [],
   "source": [
    "from tensorflow.keras.models import load_model\n",
    "import os\n",
    "import numpy as np\n",
    "import pandas as pd"
   ]
  },
  {
   "cell_type": "code",
   "execution_count": 2,
   "metadata": {},
   "outputs": [],
   "source": [
    "model = load_model('Model.h5')"
   ]
  },
  {
   "cell_type": "markdown",
   "metadata": {},
   "source": [
    "### Scaling the Test images"
   ]
  },
  {
   "cell_type": "code",
   "execution_count": 25,
   "metadata": {},
   "outputs": [],
   "source": [
    "#defining a function that will scale images\n",
    "from PIL import Image\n",
    "\n",
    "def scaling(test_path):\n",
    "    images = []\n",
    "\n",
    "    image_path = os.listdir(test_path)\n",
    "    for x in image_path:\n",
    "        img = Image.open(test_path + '\\\\' + x)\n",
    "        img = img.resize((50,50))\n",
    "        img = np.array(img)\n",
    "        images.append(img)\n",
    "\n",
    "    #Converting images into numpy array\n",
    "    images = np.array(images)\n",
    "    #The pixel value of each image ranges between 0 and 255\n",
    "    #Dividing each image by 255 will scale the values between 0 and 1. This is also known as normalization.\n",
    "    images = images/255\n",
    "\n",
    "    return images"
   ]
  },
  {
   "cell_type": "markdown",
   "metadata": {},
   "source": [
    "**The above function can be used to scale any new traffic-sign images that can be predicted with our model. This is a general purpose function for code reusability.**"
   ]
  },
  {
   "cell_type": "code",
   "execution_count": 26,
   "metadata": {},
   "outputs": [],
   "source": [
    "dir_path = 'C:\\\\Users\\\\Pritam\\\\Desktop\\\\Data Science Projets\\\\Traffic Sign Prediction'\n",
    "test_path = dir_path + '\\\\traffic_signs\\\\Test'"
   ]
  },
  {
   "cell_type": "code",
   "execution_count": 27,
   "metadata": {},
   "outputs": [],
   "source": [
    "test_images = scaling(test_path)"
   ]
  },
  {
   "cell_type": "markdown",
   "metadata": {},
   "source": [
    "#### Test labels"
   ]
  },
  {
   "cell_type": "code",
   "execution_count": 29,
   "metadata": {},
   "outputs": [],
   "source": [
    "test = pd.read_csv(dir_path + '\\\\traffic_signs\\\\Test.csv')"
   ]
  },
  {
   "cell_type": "code",
   "execution_count": 30,
   "metadata": {},
   "outputs": [],
   "source": [
    "y_test = test['ClassId'].values"
   ]
  },
  {
   "cell_type": "code",
   "execution_count": 31,
   "metadata": {},
   "outputs": [
    {
     "data": {
      "text/plain": [
       "array([16,  1, 38, ...,  6,  7, 10], dtype=int64)"
      ]
     },
     "execution_count": 31,
     "metadata": {},
     "output_type": "execute_result"
    }
   ],
   "source": [
    "y_test"
   ]
  },
  {
   "cell_type": "markdown",
   "metadata": {},
   "source": [
    "######   "
   ]
  },
  {
   "cell_type": "markdown",
   "metadata": {},
   "source": [
    "### Testing on test images"
   ]
  },
  {
   "cell_type": "code",
   "execution_count": 32,
   "metadata": {},
   "outputs": [],
   "source": [
    "y_pred = model.predict_classes(test_images)"
   ]
  },
  {
   "cell_type": "code",
   "execution_count": 35,
   "metadata": {},
   "outputs": [
    {
     "data": {
      "text/plain": [
       "array([16,  1, 38, ..., 32,  7, 10], dtype=int64)"
      ]
     },
     "execution_count": 35,
     "metadata": {},
     "output_type": "execute_result"
    }
   ],
   "source": [
    "y_pred"
   ]
  },
  {
   "cell_type": "code",
   "execution_count": 33,
   "metadata": {},
   "outputs": [],
   "source": [
    "from sklearn.metrics import classification_report"
   ]
  },
  {
   "cell_type": "code",
   "execution_count": 36,
   "metadata": {},
   "outputs": [
    {
     "name": "stdout",
     "output_type": "stream",
     "text": [
      "              precision    recall  f1-score   support\n",
      "\n",
      "           0       0.97      1.00      0.98        60\n",
      "           1       0.98      0.99      0.99       720\n",
      "           2       0.98      0.99      0.99       750\n",
      "           3       1.00      0.94      0.97       450\n",
      "           4       1.00      0.98      0.99       660\n",
      "           5       0.95      0.98      0.96       630\n",
      "           6       1.00      0.88      0.94       150\n",
      "           7       0.99      0.97      0.98       450\n",
      "           8       0.98      0.98      0.98       450\n",
      "           9       0.96      1.00      0.98       480\n",
      "          10       1.00      1.00      1.00       660\n",
      "          11       0.91      0.99      0.95       420\n",
      "          12       0.99      0.95      0.97       690\n",
      "          13       1.00      1.00      1.00       720\n",
      "          14       1.00      1.00      1.00       270\n",
      "          15       0.97      1.00      0.98       210\n",
      "          16       1.00      0.99      1.00       150\n",
      "          17       1.00      0.90      0.95       360\n",
      "          18       0.94      0.95      0.94       390\n",
      "          19       0.95      1.00      0.98        60\n",
      "          20       0.79      1.00      0.88        90\n",
      "          21       0.96      0.73      0.83        90\n",
      "          22       0.99      0.99      0.99       120\n",
      "          23       0.93      0.98      0.95       150\n",
      "          24       0.99      0.93      0.96        90\n",
      "          25       0.98      0.98      0.98       480\n",
      "          26       0.94      0.93      0.94       180\n",
      "          27       0.86      0.50      0.63        60\n",
      "          28       0.97      0.98      0.97       150\n",
      "          29       0.89      1.00      0.94        90\n",
      "          30       0.98      0.71      0.83       150\n",
      "          31       0.94      0.96      0.95       270\n",
      "          32       0.62      1.00      0.77        60\n",
      "          33       0.99      1.00      0.99       210\n",
      "          34       1.00      0.99      1.00       120\n",
      "          35       0.99      1.00      1.00       390\n",
      "          36       0.98      1.00      0.99       120\n",
      "          37       0.95      1.00      0.98        60\n",
      "          38       0.97      1.00      0.98       690\n",
      "          39       0.97      0.98      0.97        90\n",
      "          40       0.88      0.97      0.92        90\n",
      "          41       1.00      0.72      0.83        60\n",
      "          42       0.93      1.00      0.96        90\n",
      "\n",
      "    accuracy                           0.97     12630\n",
      "   macro avg       0.95      0.95      0.95     12630\n",
      "weighted avg       0.97      0.97      0.97     12630\n",
      "\n"
     ]
    }
   ],
   "source": [
    "print(classification_report(y_test,y_pred))"
   ]
  },
  {
   "cell_type": "markdown",
   "metadata": {},
   "source": [
    "#### We achieved an overall accuracy of 97% on our model. This is pretty good and we can use this model for predicting some other Traffic signs as well in future."
   ]
  }
 ],
 "metadata": {
  "kernelspec": {
   "display_name": "Python [conda env:py3-TF2.0]",
   "language": "python",
   "name": "conda-env-py3-TF2.0-py"
  },
  "language_info": {
   "codemirror_mode": {
    "name": "ipython",
    "version": 3
   },
   "file_extension": ".py",
   "mimetype": "text/x-python",
   "name": "python",
   "nbconvert_exporter": "python",
   "pygments_lexer": "ipython3",
   "version": "3.7.7"
  }
 },
 "nbformat": 4,
 "nbformat_minor": 4
}
